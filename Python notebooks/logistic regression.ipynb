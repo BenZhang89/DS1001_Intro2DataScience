{
 "cells": [
  {
   "cell_type": "code",
   "execution_count": 1,
   "metadata": {
    "collapsed": true
   },
   "outputs": [],
   "source": [
    "import os\n",
    "import pandas as pd\n",
    "import matplotlib.pyplot as plt\n",
    "import numpy as np"
   ]
  },
  {
   "cell_type": "code",
   "execution_count": 2,
   "metadata": {
    "collapsed": true
   },
   "outputs": [],
   "source": [
    "cwd = os.getcwd()\n",
    "datadir = '/'.join(cwd.split('/')[0:-1]) + '/project/'"
   ]
  },
  {
   "cell_type": "code",
   "execution_count": 3,
   "metadata": {
    "collapsed": true
   },
   "outputs": [],
   "source": [
    "#data = pd.read_csv(datadir+'Dataset_clean_1106.csv')\n",
    "data = pd.read_csv(datadir+'data_clean_divide.csv')"
   ]
  },
  {
   "cell_type": "code",
   "execution_count": 4,
   "metadata": {
    "collapsed": true
   },
   "outputs": [],
   "source": [
    "#drom correlated features\n",
    "data = data.drop(['funny_review',\n",
    "'cool_review',\n",
    "'fans',\n",
    "'useful_review', 'funny_user', 'elite_years',\n",
    "'useful_user',\n",
    "'cool_user',\n",
    "'compliment_funny',\n",
    "'compliment_plain','compliment_photos','compliment_list',\n",
    "'compliment_note', 'compliment_writer', 'compliment_cute', 'compliment_profile', 'compliment_cool',\n",
    "                 'compliment_hot', 'compliment_more', 'date_review_to_now'], axis=1)\n",
    "#data_clean=data_clean.drop(['useful_user', 'funny_user', 'cool_user','compliment_profile', 'compliment_note','compliment_hot','compliment_more', 'compliment_list', 'compliment_cool', 'compliment_funny','compliment_plain', 'compliment_writer','compliment_cute','fans','funny_review','cool_review'],axis=1)"
   ]
  },
  {
   "cell_type": "code",
   "execution_count": 5,
   "metadata": {},
   "outputs": [
    {
     "name": "stderr",
     "output_type": "stream",
     "text": [
      "/Users/zhl/anaconda/lib/python3.6/site-packages/sklearn/utils/validation.py:429: DataConversionWarning: Data with input dtype int64 was converted to float64 by the scale function.\n",
      "  warnings.warn(msg, _DataConversionWarning)\n"
     ]
    }
   ],
   "source": [
    "#normalized features\n",
    "from sklearn import preprocessing\n",
    "for col in data.columns:\n",
    "    if (data[col].min() == 0 and data[col].max() == 1):\n",
    "        data[col] = data[col]\n",
    "    else:\n",
    "        data[col] = preprocessing.scale(data[col])\n",
    "        \n",
    "# bool_cols = [col for col in data if data[[col]].dropna().isin([0, 1]).all().values]\n",
    "# bool_cols\n"
   ]
  },
  {
   "cell_type": "code",
   "execution_count": 6,
   "metadata": {},
   "outputs": [],
   "source": [
    "from sklearn.model_selection import train_test_split\n",
    "X, y = data.drop('Useful', 1), data['Useful']\n",
    "X_train, X_test, y_train, y_test = train_test_split(X, y, random_state=0)\n",
    "data_train, data_test = train_test_split(data, train_size = 0.8)"
   ]
  },
  {
   "cell_type": "code",
   "execution_count": 7,
   "metadata": {},
   "outputs": [
    {
     "name": "stdout",
     "output_type": "stream",
     "text": [
      "0.791570104287\n",
      "0.780244147827\n"
     ]
    }
   ],
   "source": [
    "from sklearn.linear_model import LogisticRegression\n",
    "from sklearn.feature_selection import RFE\n",
    "from sklearn.metrics import roc_auc_score\n",
    "from sklearn.metrics import roc_curve\n",
    "lr = LogisticRegression()\n",
    "lr.fit(X_train, y_train)\n",
    "# rfe = RFE(lr)\n",
    "# rfe = rfe.fit(X_train, y_train)\n",
    "pred_lr = lr.predict_proba(X_test)[:, 1]\n",
    "fpr, tpr, thresholds = roc_curve(y_test, pred_lr)\n",
    "roc_auc = roc_auc_score(y_test, pred_lr)\n",
    "# plt.plot(fpr, tpr, color = 'r', label = 'LR' + ' (AUC = %0.3f)' % roc_auc)\n",
    "# plt.show()\n",
    "#print(lr.score(X_test, y_test))\n",
    "print(lr.score(X_test, y_test))\n",
    "print(roc_auc)\n",
    "#print(lr.coef_)\n",
    "#print(np.std(X_train))\n",
    "# print(rfe.support_)\n",
    "# print(rfe.ranking_)\n",
    "#X_train.transpose()[rfe.support_]"
   ]
  },
  {
   "cell_type": "code",
   "execution_count": 42,
   "metadata": {},
   "outputs": [
    {
     "name": "stdout",
     "output_type": "stream",
     "text": [
      "stars_review -0.202169733308\n",
      "is_open 1.05506631122\n",
      "review_count_business -0.111346783336\n",
      "stars_business 0.271913329593\n",
      "attributes.RestaurantsPriceRange2 -0.095137436161\n",
      "review_count_user 0.404079978182\n",
      "average_stars_user 0.137187263813\n",
      "since_first_review 0.143411533292\n",
      "friends_number 0.369773991995\n",
      "text_length 0.35461372513\n",
      "text_positive 0.224985074072\n",
      "text_negative -0.0706168239864\n",
      "user_yelping_to_now -0.446510570073\n",
      "Chinese -0.103187804323\n",
      "Mexican -0.0372034508815\n",
      "American -0.0539067077913\n",
      "Korean 0.302760950839\n",
      "Italian -0.0780918500946\n",
      "Japanese 0.137020961579\n",
      "Thai -0.261826991356\n",
      "Vietnamese -0.0802479559021\n",
      "count_food_detail 0.0378212167582\n",
      "count_food_quality 0.016919684063\n",
      "operatinghours 0.0294130093774\n",
      "price_cost -0.00114944863072\n",
      "traffic 0.0195635346642\n",
      "queue_in_line 0.0192505731015\n",
      "service -0.0408671087246\n",
      "ambience -0.0181621811634\n"
     ]
    }
   ],
   "source": [
    "for (a,b) in zip(X_train.columns,lr.coef_[0]):\n",
    "    print(a,b)\n"
   ]
  },
  {
   "cell_type": "code",
   "execution_count": 19,
   "metadata": {},
   "outputs": [
    {
     "name": "stdout",
     "output_type": "stream",
     "text": [
      "Num Features: 10\n",
      "Selected Features: [ True  True False  True False  True False False  True  True  True False\n",
      "  True False False False  True False False  True False False False False\n",
      " False False False False False]\n",
      "Feature Ranking: [ 1  1  4  1  6  1  2  5  1  1  1  8  1  9 14 11  1 10  3  1  7 13 19 15 20\n",
      " 17 16 12 18]\n"
     ]
    }
   ],
   "source": [
    "#top 10 important features\n",
    "from sklearn.feature_selection import RFE\n",
    "model = LogisticRegression()\n",
    "rfe = RFE(model, 10)\n",
    "fit = rfe.fit(X_train, y_train)\n",
    "print(\"Num Features: %d\" % fit.n_features_ )\n",
    "print(\"Selected Features: %s\" % fit.support_)\n",
    "print(\"Feature Ranking: %s\" % fit.ranking_)\n"
   ]
  },
  {
   "cell_type": "code",
   "execution_count": 21,
   "metadata": {},
   "outputs": [
    {
     "name": "stdout",
     "output_type": "stream",
     "text": [
      "Index(['stars_review', 'is_open', 'stars_business', 'review_count_user',\n",
      "       'friends_number', 'text_length', 'text_positive', 'user_yelping_to_now',\n",
      "       'Korean', 'Thai'],\n",
      "      dtype='object')\n"
     ]
    }
   ],
   "source": [
    "print(X_train.columns[fit.support_])"
   ]
  },
  {
   "cell_type": "code",
   "execution_count": 8,
   "metadata": {},
   "outputs": [
    {
     "name": "stderr",
     "output_type": "stream",
     "text": [
      "/Users/zhl/anaconda/lib/python3.6/site-packages/sklearn/utils/deprecation.py:70: DeprecationWarning: Function transform is deprecated; Support to use estimators as feature selectors will be removed in version 0.19. Use SelectFromModel instead.\n",
      "  warnings.warn(msg, category=DeprecationWarning)\n",
      "/Users/zhl/anaconda/lib/python3.6/site-packages/sklearn/utils/deprecation.py:70: DeprecationWarning: Function transform is deprecated; Support to use estimators as feature selectors will be removed in version 0.19. Use SelectFromModel instead.\n",
      "  warnings.warn(msg, category=DeprecationWarning)\n"
     ]
    }
   ],
   "source": [
    "#top 3 important features\n",
    "reduced_train = lr.transform(X_train)\n",
    "reduced_test = lr.transform(X_test)"
   ]
  },
  {
   "cell_type": "code",
   "execution_count": 33,
   "metadata": {},
   "outputs": [],
   "source": [
    "reduced_train = X_train[['stars_review', 'is_open', 'stars_business', 'review_count_user',\n",
    "       'friends_number', 'text_length', 'text_positive', 'user_yelping_to_now',\n",
    "       'Korean', 'Thai']]\n",
    "reduced_test = X_test[['stars_review', 'is_open', 'stars_business', 'review_count_user',\n",
    "       'friends_number', 'text_length', 'text_positive', 'user_yelping_to_now',\n",
    "       'Korean', 'Thai']]\n",
    "reduced_data = data[['stars_review', 'is_open', 'stars_business', 'review_count_user',\n",
    "       'friends_number', 'text_length', 'text_positive', 'user_yelping_to_now',\n",
    "       'Korean', 'Thai', 'Useful']]"
   ]
  },
  {
   "cell_type": "code",
   "execution_count": 28,
   "metadata": {},
   "outputs": [
    {
     "name": "stdout",
     "output_type": "stream",
     "text": [
      "0.787707609115\n",
      "0.776382235708\n"
     ]
    }
   ],
   "source": [
    "lr.fit(reduced_train, y_train)\n",
    "pred_lr = lr.predict_proba(reduced_test)[:, 1]\n",
    "fpr, tpr, thresholds = roc_curve(y_test, pred_lr)\n",
    "roc_auc = roc_auc_score(y_test, pred_lr)\n",
    "print(lr.score(reduced_test, y_test))\n",
    "print(roc_auc)"
   ]
  },
  {
   "cell_type": "code",
   "execution_count": 32,
   "metadata": {},
   "outputs": [
    {
     "name": "stdout",
     "output_type": "stream",
     "text": [
      "{1e-08: [0.72095327638071249], 1e-07: [0.72102238809873298], 1e-06: [0.72170840985677864], 1e-05: [0.72770359190596767], 0.0001: [0.7487737286935191], 0.001: [0.76762228837943414], 0.01: [0.77676433845055703], 0.1: [0.7765286145158925], 1: [0.77639710409634732], 10: [0.77638223570840581]}\n",
      "{1e-08: [0.76467748165314797], 1e-07: [0.76487060641174198], 1e-06: [0.76458091927385086], 1e-05: [0.76694669756662803], 0.0001: [0.77414059482425646], 0.001: [0.78370027037466206], 0.01: [0.78683854770181538], 0.1: [0.78751448435689453], 1: [0.78770760911548865], 10: [0.78770760911548865]}\n"
     ]
    }
   ],
   "source": [
    "#different panelty\n",
    "#logistic regression(class_weight = \"balanced)\n",
    "cs = [10**i for i in range(-8,2)]\n",
    "aucs = dict()\n",
    "accuracy = dict()\n",
    "for c in cs:\n",
    "    lr = LogisticRegression(C=c)\n",
    "    lr.fit(reduced_train, y_train)\n",
    "    pred_lr = lr.predict_proba(reduced_test)[:, 1]\n",
    "    fpr, tpr, thresholds = roc_curve(y_test, pred_lr)\n",
    "    roc_auc = roc_auc_score(y_test, pred_lr)\n",
    "    acc = lr.score(reduced_test, y_test)\n",
    "    aucs[c] = [roc_auc]\n",
    "    accuracy[c] = [acc]\n",
    "print(aucs)\n",
    "print(accuracy)"
   ]
  },
  {
   "cell_type": "code",
   "execution_count": 10,
   "metadata": {},
   "outputs": [
    {
     "name": "stderr",
     "output_type": "stream",
     "text": [
      "/Users/zhl/anaconda/lib/python3.6/site-packages/sklearn/cross_validation.py:44: DeprecationWarning: This module was deprecated in version 0.18 in favor of the model_selection module into which all the refactored classes and functions are moved. Also note that the interface of the new CV iterators are different from that of this module. This module will be removed in 0.20.\n",
      "  \"This module will be removed in 0.20.\", DeprecationWarning)\n"
     ]
    }
   ],
   "source": [
    "#cross validation\n",
    "from sklearn.cross_validation import KFold\n",
    "\n",
    "def xValLR(dataset, label_name, k, cs):\n",
    "    kfolds = KFold(dataset.shape[0], n_folds = k)\n",
    "    aucs = dict()\n",
    "    for train_index, validate_index in kfolds:\n",
    "        cv_train = dataset.iloc[train_index, :]\n",
    "        cv_validate = dataset.iloc[validate_index, :]\n",
    "        for c in cs:\n",
    "            X_cv_train = cv_train.drop(label_name, 1)\n",
    "            Y_cv_train = cv_train[label_name]\n",
    "            X_cv_validate = cv_validate.drop(label_name, 1)\n",
    "            Y_cv_validate = cv_validate[label_name]\n",
    "            Y_cv_validate = Y_cv_validate.astype(int)\n",
    "            lr = LogisticRegression(C = c)\n",
    "            lr.fit(X_cv_train, Y_cv_train)\n",
    "            #compute AUC_c_k\n",
    "            roc_auc = roc_auc_score(Y_cv_validate, lr.predict_proba(X_cv_validate)[:, 1])\n",
    "            if c in aucs:\n",
    "                aucs[c].append(roc_auc)\n",
    "            else:\n",
    "                aucs[c] = [roc_auc]\n",
    "    return aucs"
   ]
  },
  {
   "cell_type": "code",
   "execution_count": 32,
   "metadata": {
    "collapsed": true
   },
   "outputs": [],
   "source": [
    "#sort by time\n",
    "def non_shuffling_train_test_split(X, y, test_size=0.2):\n",
    "    i = int((1 - test_size) * X.shape[0]) + 1\n",
    "    X_train, X_test = np.split(X, [i])\n",
    "    y_train, y_test = np.split(y, [i])\n",
    "    return X_train, X_test, y_train, y_test"
   ]
  },
  {
   "cell_type": "code",
   "execution_count": 93,
   "metadata": {},
   "outputs": [
    {
     "name": "stdout",
     "output_type": "stream",
     "text": [
      "0.898692898019\n"
     ]
    }
   ],
   "source": [
    "\n",
    "# df = data.sort_values(by = 'date_review_to_now')\n",
    "# X, y = df.drop('Useful', 1), df['Useful']\n",
    "# X_train, X_test, y_train, y_test = non_shuffling_train_test_split(X, y, test_size=0.2)\n",
    "# lr.fit(X_train, y_train)\n",
    "# pred_lr = lr.predict_proba(X_test)[:, 1]\n",
    "# fpr, tpr, thresholds = roc_curve(y_test, pred_lr)\n",
    "# roc_auc = roc_auc_score(y_test, pred_lr)\n",
    "# print(roc_auc)\n",
    "# print(lr.score(reduced_test, y_test))"
   ]
  },
  {
   "cell_type": "code",
   "execution_count": 34,
   "metadata": {
    "collapsed": true
   },
   "outputs": [],
   "source": [
    "# cs = [10**i for i in range(-8,2)]\n",
    "# aucs = xValLR(data_train, 'Useful', 10, cs)\n",
    "reduced_data_train, reduced_data_test = train_test_split(reduced_data, train_size = 0.8)\n",
    "cs = [10**i for i in range(-8,2)]\n",
    "aucs = xValLR(reduced_data_train, 'Useful', 10, cs)"
   ]
  },
  {
   "cell_type": "code",
   "execution_count": 38,
   "metadata": {},
   "outputs": [
    {
     "data": {
      "image/png": "[encoded data removed]",
      "text/plain": [
       "<matplotlib.figure.Figure at 0x11cf59d68>"
      ]
     },
     "metadata": {},
     "output_type": "display_data"
    },
    {
     "name": "stdout",
     "output_type": "stream",
     "text": [
      "[0.72520791906659554, 0.72527319687196901, 0.72593483055134411, 0.73171857240853189, 0.75206377881852871, 0.77025725038496495, 0.77901485601341325, 0.77844717199679658, 0.77825747103057041, 0.77823509366608001]\n"
     ]
    }
   ],
   "source": [
    "import math\n",
    "mean_auc = []\n",
    "StdErr_auc = []\n",
    "x = []\n",
    "for c in aucs.keys():\n",
    "    mean_auc.append(np.mean(aucs.get(c)))\n",
    "    StdErr_auc.append(np.sqrt(np.var(aucs.get(c))/10))\n",
    "    x.append(math.log10(c))\n",
    "max_mean_auc = max(mean_auc)\n",
    "max_mean_auc_index = mean_auc.index(max_mean_auc)\n",
    "max_1std = mean_auc[max_mean_auc_index]-StdErr_auc[max_mean_auc_index]\n",
    "\n",
    "y1 = [i - 2*j for i, j in zip(mean_auc, StdErr_auc)]\n",
    "y2 = [i + 2*j for i, j in zip(mean_auc, StdErr_auc)]\n",
    "fig = plt.figure(figsize = (15, 8))\n",
    "plt.plot(x, mean_auc)\n",
    "plt.plot(x, y1, 'k+' )\n",
    "plt.plot(x, y2, 'k--')\n",
    "plt.axhline(max_1std, color = 'r')\n",
    "plt.show()"
   ]
  },
  {
   "cell_type": "code",
   "execution_count": 40,
   "metadata": {},
   "outputs": [
    {
     "name": "stdout",
     "output_type": "stream",
     "text": [
      "1e-08 0.725207919067\n",
      "1e-07 0.725273196872\n",
      "1e-06 0.725934830551\n",
      "1e-05 0.731718572409\n",
      "0.0001 0.752063778819\n",
      "0.001 0.770257250385\n",
      "0.01 0.779014856013\n",
      "0.1 0.778447171997\n",
      "1 0.778257471031\n",
      "10 0.778235093666\n"
     ]
    }
   ],
   "source": [
    "for (a,b) in zip(cs, mean_auc):\n",
    "    print (a,b)"
   ]
  },
  {
   "cell_type": "markdown",
   "metadata": {},
   "source": [
    "select top 10 features, use cv to tune the hyperparameter C, and get the best C value 0.01, with auc 0.779"
   ]
  },
  {
   "cell_type": "code",
   "execution_count": null,
   "metadata": {
    "collapsed": true
   },
   "outputs": [],
   "source": []
  }
 ],
 "metadata": {
  "kernelspec": {
   "display_name": "Python 3",
   "language": "python",
   "name": "python3"
  },
  "language_info": {
   "codemirror_mode": {
    "name": "ipython",
    "version": 3
   },
   "file_extension": ".py",
   "mimetype": "text/x-python",
   "name": "python",
   "nbconvert_exporter": "python",
   "pygments_lexer": "ipython3",
   "version": "3.6.1"
  }
 },
 "nbformat": 4,
 "nbformat_minor": 2
}
